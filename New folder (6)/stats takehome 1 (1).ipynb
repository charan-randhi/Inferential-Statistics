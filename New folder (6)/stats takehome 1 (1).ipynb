{
 "cells": [
  {
   "cell_type": "code",
   "execution_count": 1,
   "metadata": {
    "colab": {},
    "colab_type": "code",
    "id": "d89k2LDYGn0F"
   },
   "outputs": [],
   "source": [
    "## CALLING LIBRARIES\n",
    "import numpy             as np\n",
    "import pandas            as pd\n",
    "import scipy.stats       as stats\n",
    "import matplotlib.pyplot as plt\n",
    "%matplotlib inline\n",
    "import seaborn           as sns\n",
    "import math"
   ]
  },
  {
   "cell_type": "markdown",
   "metadata": {
    "colab_type": "text",
    "id": "g57YPx1NGn0J"
   },
   "source": [
    "## Normal Distribution"
   ]
  },
  {
   "cell_type": "markdown",
   "metadata": {
    "colab_type": "text",
    "id": "hN7mH0usGn0J"
   },
   "source": [
    "**Problem:** The fill amount in 2-liter soft drink bottles is normally distributed, with a mean of 2.0 liters and a standard deviation of 0.05 liter. If the bottles contain less than 95% of the listed net content (1.90 liters, in our case), the manufacturer may be subject to penalty by the state office of consumer affairs. Bottles that have a net content above 2.1 liters may cause excess spillage upon opening. What is the proportion of bottles that will contain\n",
    "\n",
    "* a) between 1.9 and 2.0 liters\n",
    "* b) between 1.9 and 2.1 liters\n",
    "* c) below 1.9 liters or above 2.1 liters\n",
    "* d) At least how much soft drink is contained in 99% of the bottles?"
   ]
  },
  {
   "cell_type": "code",
   "execution_count": 5,
   "metadata": {
    "colab": {},
    "colab_type": "code",
    "id": "HnVAX5ENGn0K"
   },
   "outputs": [],
   "source": [
    "mu     = 2\n",
    "sigma  = 0.05"
   ]
  },
  {
   "cell_type": "markdown",
   "metadata": {
    "colab_type": "text",
    "id": "sk98nhZtGn0O"
   },
   "source": [
    "#### a. between 1.9 and 2.0 liters\n",
    "----------"
   ]
  },
  {
   "cell_type": "code",
   "execution_count": 8,
   "metadata": {
    "colab": {},
    "colab_type": "code",
    "id": "AQ699nLuGn0O"
   },
   "outputs": [
    {
     "data": {
      "text/plain": [
       "0.4772498680518209"
      ]
     },
     "execution_count": 8,
     "metadata": {},
     "output_type": "execute_result"
    }
   ],
   "source": [
    "stats.norm.cdf(2,loc=2,scale=0.05)-stats.norm.cdf(1.9,loc=2,scale=0.05)"
   ]
  },
  {
   "cell_type": "markdown",
   "metadata": {
    "colab_type": "text",
    "id": "VMg1N610Gn0R"
   },
   "source": [
    "#### b) between 1.9 and 2.1 liters\n",
    "-------"
   ]
  },
  {
   "cell_type": "code",
   "execution_count": 9,
   "metadata": {
    "colab": {},
    "colab_type": "code",
    "id": "rTGEGVWQGn0R"
   },
   "outputs": [
    {
     "data": {
      "text/plain": [
       "0.9544997361036418"
      ]
     },
     "execution_count": 9,
     "metadata": {},
     "output_type": "execute_result"
    }
   ],
   "source": [
    "stats.norm.cdf(2.1,loc=2,scale=0.05)-stats.norm.cdf(1.9,loc=2,scale=0.05)"
   ]
  },
  {
   "cell_type": "markdown",
   "metadata": {
    "colab_type": "text",
    "id": "WgVEEnzmGn0U"
   },
   "source": [
    "#### c. below 1.9 liters or above 2.1 liters\n",
    "------"
   ]
  },
  {
   "cell_type": "code",
   "execution_count": 12,
   "metadata": {
    "colab": {},
    "colab_type": "code",
    "id": "L8WyBAqNGn0U"
   },
   "outputs": [
    {
     "data": {
      "text/plain": [
       "0.045500263896358195"
      ]
     },
     "execution_count": 12,
     "metadata": {},
     "output_type": "execute_result"
    }
   ],
   "source": [
    "stats.norm.cdf(1.9,loc=2,scale=0.05)+(1-stats.norm.cdf(2.1,loc=2,scale=0.05))"
   ]
  },
  {
   "cell_type": "markdown",
   "metadata": {
    "colab_type": "text",
    "id": "lAkpxgrRGn0X"
   },
   "source": [
    "#### d) At least how much soft drink is contained in 99% of the bottles?\n",
    "-----------"
   ]
  },
  {
   "cell_type": "code",
   "execution_count": 13,
   "metadata": {
    "colab": {},
    "colab_type": "code",
    "id": "5I94xzhdGn0X"
   },
   "outputs": [
    {
     "data": {
      "text/plain": [
       "1.883682606297958"
      ]
     },
     "execution_count": 13,
     "metadata": {},
     "output_type": "execute_result"
    }
   ],
   "source": [
    "stats.norm.isf(0.99,loc=2,scale=0.05)"
   ]
  },
  {
   "cell_type": "markdown",
   "metadata": {
    "colab_type": "text",
    "id": "C1bKDZiTGn0a"
   },
   "source": [
    "------"
   ]
  },
  {
   "cell_type": "markdown",
   "metadata": {
    "colab_type": "text",
    "id": "EezgPOmzGn0a"
   },
   "source": [
    "**Problem)**. The following table contains the age of the vistors in the cricket stadium  ( n =50).**\n",
    "* Decide whether the data appears to be normally distributed by\n",
    "* a. Mean and median "
   ]
  },
  {
   "cell_type": "markdown",
   "metadata": {
    "colab_type": "text",
    "id": "JzulqPOVGn0b"
   },
   "source": [
    "**solution :**"
   ]
  },
  {
   "cell_type": "code",
   "execution_count": 14,
   "metadata": {
    "colab": {},
    "colab_type": "code",
    "id": "tGGvPbgTGn0c",
    "outputId": "52d28ea1-876f-4d27-e58e-659ef249e642"
   },
   "outputs": [
    {
     "name": "stdout",
     "output_type": "stream",
     "text": [
      "[38 36 31 30 28 25 26 20 20 20 21 19 21 19 21 20 20 20 19 21 21 22 20 22\n",
      " 20 20 22 20 22 21 19 19 20 20 21 20 19 18 20 21 21 20 21 21 20 21 24 32\n",
      " 35 38]\n"
     ]
    }
   ],
   "source": [
    "mpg = np.array([38,36,31,30, 28,25, 26, 20, 20, 20, 21, 19, 21, 19, 21, 20, 20, 20, 19, 21, 21, 22, 20, 22, 20, 20, 22, 20, 22, 21, 19,\n",
    "                             19, 20, 20, 21, 20, 19, 18, 20, 21, 21, 20, 21, 21, 20,  21, 24, 32, 35,38])\n",
    "print(mpg)"
   ]
  },
  {
   "cell_type": "code",
   "execution_count": 22,
   "metadata": {
    "colab": {},
    "colab_type": "code",
    "id": "I6cfjR9iGn0g"
   },
   "outputs": [
    {
     "data": {
      "image/png": "[encoded data removed]",
      "text/plain": [
       "<Figure size 432x288 with 1 Axes>"
      ]
     },
     "metadata": {
      "needs_background": "light"
     },
     "output_type": "display_data"
    }
   ],
   "source": [
    "sns.kdeplot(x=mpg,fill=True,color='gold')\n",
    "plt.axvline(mpg.mean(),color='red',label='mean')\n",
    "plt.axvline(np.median(mpg),color='green',label='median')\n",
    "plt.legend()\n",
    "plt.show()"
   ]
  },
  {
   "cell_type": "code",
   "execution_count": 16,
   "metadata": {},
   "outputs": [
    {
     "name": "stdout",
     "output_type": "stream",
     "text": [
      "22.7\n"
     ]
    }
   ],
   "source": [
    "print(mpg.mean())"
   ]
  },
  {
   "cell_type": "code",
   "execution_count": 18,
   "metadata": {},
   "outputs": [
    {
     "name": "stdout",
     "output_type": "stream",
     "text": [
      "21.0\n"
     ]
    }
   ],
   "source": [
    "print(np.median(mpg))"
   ]
  },
  {
   "cell_type": "markdown",
   "metadata": {
    "colab_type": "text",
    "id": "VsB673p9mXi3"
   },
   "source": [
    "**Problem** ) Provided the Population data and sample data.\n",
    "\n",
    "#### a)plot the population data and sample data check how the data is distributed.Give inference whether the sampling distribution similar to population data."
   ]
  },
  {
   "cell_type": "code",
   "execution_count": 23,
   "metadata": {
    "colab": {
     "base_uri": "https://localhost:8080/",
     "height": 35
    },
    "colab_type": "code",
    "executionInfo": {
     "elapsed": 902,
     "status": "ok",
     "timestamp": 1597503134610,
     "user": {
      "displayName": "Mallikarjuna Doddamane",
      "photoUrl": "https://lh3.googleusercontent.com/a-/AOh14GjOdnL6KUzzQMPHfk6as2xRMsOSbJoBMF9oJSaK=s64",
      "userId": "11697854241316775674"
     },
     "user_tz": -330
    },
    "id": "yWi8Vny6mcIb",
    "outputId": "92b8c442-9fd0-498a-c05e-075a7c1d720c"
   },
   "outputs": [
    {
     "name": "stdout",
     "output_type": "stream",
     "text": [
      "[1824 1825 1821 ... 1812 1807 1805]\n"
     ]
    }
   ],
   "source": [
    "import numpy as np\n",
    "import scipy.stats as stats\n",
    "np.random.seed(7)\n",
    "population_horsepower1 = stats.poisson.rvs(loc=1800, mu=25, size=15000)\n",
    "population_horsepower2 = stats.poisson.rvs(loc=1800, mu=5, size=10000)\n",
    "population_hp = np.concatenate((population_horsepower1, population_horsepower2))\n",
    "\n",
    "print(population_hp) # population data"
   ]
  },
  {
   "cell_type": "code",
   "execution_count": 24,
   "metadata": {
    "colab": {
     "base_uri": "https://localhost:8080/",
     "height": 156
    },
    "colab_type": "code",
    "executionInfo": {
     "elapsed": 758,
     "status": "ok",
     "timestamp": 1597503139696,
     "user": {
      "displayName": "Mallikarjuna Doddamane",
      "photoUrl": "https://lh3.googleusercontent.com/a-/AOh14GjOdnL6KUzzQMPHfk6as2xRMsOSbJoBMF9oJSaK=s64",
      "userId": "11697854241316775674"
     },
     "user_tz": -330
    },
    "id": "9x245SPSmoM1",
    "outputId": "a0a95de0-8bbc-403d-936f-79dacc599e0c"
   },
   "outputs": [
    {
     "name": "stdout",
     "output_type": "stream",
     "text": [
      "[1806 1816 1833 1809 1834 1819 1818 1803 1823 1803 1824 1807 1823 1835\n",
      " 1804 1802 1812 1804 1802 1821 1819 1829 1822 1826 1841 1831 1804 1820\n",
      " 1805 1828 1821 1826 1801 1820 1807 1806 1806 1807 1817 1824 1828 1806\n",
      " 1824 1819 1823 1818 1827 1803 1829 1824 1804 1802 1826 1827 1824 1809\n",
      " 1828 1822 1805 1805 1806 1805 1801 1810 1827 1822 1831 1822 1803 1820\n",
      " 1806 1822 1811 1816 1830 1835 1828 1822 1826 1803 1835 1827 1827 1824\n",
      " 1819 1826 1831 1803 1807 1831 1811 1818 1817 1832 1805 1808 1802 1821\n",
      " 1804 1836]\n"
     ]
    }
   ],
   "source": [
    "np.random.seed(7)\n",
    "sample_hp = np.random.choice(a= population_hp,size=100)            # Sample 100 values\n",
    "print(sample_hp) #sample data"
   ]
  },
  {
   "cell_type": "code",
   "execution_count": 30,
   "metadata": {},
   "outputs": [
    {
     "data": {
      "image/png": "[encoded data removed]",
      "text/plain": [
       "<Figure size 432x288 with 1 Axes>"
      ]
     },
     "metadata": {
      "needs_background": "light"
     },
     "output_type": "display_data"
    }
   ],
   "source": [
    "sns.kdeplot(population_hp,color='red',label='population')\n",
    "sns.kdeplot(sample_hp,shade=True,color='green',label='sample')\n",
    "plt.legend()\n",
    "plt.show()"
   ]
  },
  {
   "cell_type": "markdown",
   "metadata": {},
   "source": [
    "there is little difference in peakedness. sample is not very similar to population data"
   ]
  },
  {
   "cell_type": "code",
   "execution_count": null,
   "metadata": {},
   "outputs": [],
   "source": []
  },
  {
   "cell_type": "markdown",
   "metadata": {
    "colab_type": "text",
    "id": "hwe_kBn1Gn0i"
   },
   "source": [
    "------------------"
   ]
  }
 ],
 "metadata": {
  "colab": {
   "name": "Day 01_ Questions_Probability_Distributions_TH.ipynb",
   "provenance": []
  },
  "kernelspec": {
   "display_name": "Python 3",
   "language": "python",
   "name": "python3"
  },
  "language_info": {
   "codemirror_mode": {
    "name": "ipython",
    "version": 3
   },
   "file_extension": ".py",
   "mimetype": "text/x-python",
   "name": "python",
   "nbconvert_exporter": "python",
   "pygments_lexer": "ipython3",
   "version": "3.8.5"
  }
 },
 "nbformat": 4,
 "nbformat_minor": 1
}
